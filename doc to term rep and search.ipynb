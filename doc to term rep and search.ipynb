{
 "cells": [
  {
   "cell_type": "code",
   "execution_count": 1,
   "metadata": {},
   "outputs": [
    {
     "name": "stdout",
     "output_type": "stream",
     "text": [
      "Web Mining Page from Wikipedia\n",
      "['Web', 'mining', 'Web', 'mining', 'is', 'the', 'application', 'of', 'data', 'mining', 'techniques', 'to', 'discover', 'patterns', 'from', 'the', 'World', 'Wide', 'Web', '.', 'As', 'the', 'name', 'proposes', ',', 'this', 'is', 'information', 'gathered', 'by', 'mining', 'the', 'web', '.', 'It', 'makes', 'utilization', 'of', 'automated', 'apparatuses', 'to', 'reveal', 'and', 'extricate', 'data', 'from', 'servers', 'and', 'web2', 'reports', ',', 'and', 'it', 'permits', 'organizations', 'to', 'get', 'to', 'both', 'organized', 'and', 'unstructured', 'information', 'from', 'browser', 'activities', ',', 'server', 'logs', ',', 'website', 'and', 'link', 'structure', ',', 'page', 'content', 'and', 'different', 'sources', '.', 'The', 'goal', 'of', 'Web', 'structure', 'mining', 'is', 'to', 'generate', 'structural', 'summary', 'about', 'the', 'Web', 'site', 'and', 'Web', 'page', '.', 'Technically', ',', 'Web', 'content', 'mining', 'mainly', 'focuses', 'on', 'the', 'structure', 'of', 'inner-document', ',', 'while', 'Web', 'structure', 'mining', 'tries', 'to', 'discover', 'the', 'link', 'structure', 'of', 'the', 'hyperlinks', 'at', 'the', 'inter-document', 'level', '.', 'Based', 'on', 'the', 'topology', 'of', 'the', 'hyperlinks', ',', 'Web', 'structure', 'mining', 'will', 'categorize', 'the', 'Web', 'pages', 'and', 'generate', 'the', 'information', ',', 'such', 'as', 'the', 'similarity', 'and', 'relationship', 'between', 'different', 'Web', 'sites', '.', 'Web', 'structure', 'mining', 'can', 'also', 'have', 'another', 'direction', '–', 'discovering', 'the', 'structure', 'of', 'Web', 'document', 'itself', '.', 'This', 'type', 'of', 'structure', 'mining', 'can', 'be', 'used', 'to', 'reveal', 'the', 'structure', '(', 'schema', ')', 'of', 'Web', 'pages', ',', 'this', 'would', 'be', 'good', 'for', 'navigation', 'purpose', 'and', 'make', 'it', 'possible', 'to', 'compare/integrate', 'Web', 'page', 'schemes', '.', 'This', 'type', 'of', 'structure', 'mining', 'will', 'facilitate', 'introducing', 'database', 'techniques', 'for', 'accessing', 'information', 'in', 'Web', 'pages', 'by', 'providing', 'a', 'reference', 'schema', '.', 'Contents', 'Web', 'mining', 'types', '[', 'edit', ']', 'Web', 'mining', 'can', 'be', 'divided', 'into', 'three', 'different', 'types', '–', 'Web', 'usage', 'mining', ',', 'Web', 'content', 'mining', 'and', 'Web', 'structure', 'mining', '.', 'Web', 'usage', 'mining', '[', 'edit', ']', 'Web', 'usage', 'mining', 'is', 'the', 'application', 'of', 'data', 'mining', 'techniques', 'to', 'discover', 'interesting', 'usage', 'patterns', 'from', 'Web', 'data', 'in', 'order', 'to', 'understand', 'and', 'better', 'serve', 'the', 'needs', 'of', 'Web-based', 'applications', '.', 'Usage', 'data', 'captures', 'the', 'identity', 'or', 'origin', 'of', 'Web', 'users', 'along', 'with', 'their', 'browsing', 'behavior', 'at', 'a', 'Web', 'site', '.', 'Web', 'usage', 'mining', 'itself', 'can', 'be', 'classified', 'further', 'depending', 'on', 'the', 'kind', 'of', 'usage', 'data', 'considered', ':', 'Studies', 'related', 'to', 'work', '[', '2', ']', 'are', 'concerned', 'with', 'two', 'areas', ':', 'constraint-based', 'data', 'mining', 'algorithms', 'applied', 'in', 'Web', 'usage', 'mining', 'and', 'developed', 'software', 'tools', '(', 'systems', ')', '.', 'Costa', 'and', 'Seco', 'demonstrated', 'that', 'web', 'log', 'mining', 'can', 'be', 'used', 'to', 'extract', 'semantic', 'information', '(', 'hyponymy', 'relationships', 'in', 'particular', ')', 'about', 'the', 'user', 'and', 'a', 'given', 'community', '.', 'Pros', '[', 'edit', ']', 'Web', 'usage', 'mining', 'essentially', 'has', 'many', 'advantages', 'which', 'makes', 'this', 'technology', 'attractive', 'to', 'corporations', 'including', 'government', 'agencies', '.', 'This', 'technology', 'has', 'enabled', 'e-commerce', 'to', 'do', 'personalized', 'marketing', ',', 'which', 'eventually', 'results', 'in', 'higher', 'trade', 'volumes', '.', 'Government', 'agencies', 'are', 'using', 'this', 'technology', 'to', 'classify', 'threats', 'and', 'fight', 'against', 'terrorism', '.', 'The', 'predicting', 'capability', 'of', 'mining', 'applications', 'can', 'benefit', 'society', 'by', 'identifying', 'criminal', 'activities', '.', 'Companies', 'can', 'establish', 'better', 'customer', 'relationship', 'by', 'understanding', 'the', 'needs', 'of', 'the', 'customer', 'better', 'and', 'reacting', 'to', 'customer', 'needs', 'faster', '.', 'Companies', 'can', 'find', ',', 'attract', 'and', 'retain', 'customers', ';', 'they', 'can', 'save', 'on', 'production', 'costs', 'by', 'utilizing', 'the', 'acquired', 'insight', 'of', 'customer', 'requirements', '.', 'They', 'can', 'increase', 'profitability', 'by', 'target', 'pricing', 'based', 'on', 'the', 'profiles', 'created', '.', 'They', 'can', 'even', 'find', 'customers', 'who', 'might', 'default', 'to', 'a', 'competitor', 'the', 'company', 'will', 'try', 'to', 'retain', 'the', 'customer', 'by', 'providing', 'promotional', 'offers', 'to', 'the', 'specific', 'customer', ',', 'thus', 'reducing', 'the', 'risk', 'of', 'losing', 'a', 'customer', 'or', 'customers', '.', 'More', 'benefits', 'of', 'web', 'usage', 'mining', ',', 'particularly', 'in', 'the', 'area', 'of', 'personalization', ',', 'are', 'outlined', 'in', 'specific', 'frameworks', 'such', 'as', 'the', 'probabilistic', 'latent', 'semantic', 'analysis', 'model', ',', 'which', 'offer', 'additional', 'features', 'to', 'the', 'user', 'behavior', 'and', 'access', 'pattern', '.', '[', '3', ']', 'This', 'is', 'because', 'the', 'process', 'provides', 'the', 'user', 'with', 'more', 'relevant', 'content', 'through', 'collaborative', 'recommendation', '.', 'These', 'models', 'also', 'demonstrate', 'a', 'capability', 'in', 'web', 'usage', 'mining', 'technology', 'to', 'address', 'problems', 'associated', 'with', 'traditional', 'techniques', 'such', 'as', 'biases', 'and', 'questions', 'regarding', 'validity', 'since', 'the', 'data', 'and', 'patterns', 'obtained', 'are', 'not', 'subjective', 'and', 'do', 'not', 'degrade', 'over', 'time', '.', '[', '4', ']', 'There', 'are', 'also', 'elements', 'unique', 'to', 'web', 'usage', 'mining', 'that', 'can', 'show', 'the', 'technology', \"'s\", 'benefits', 'and', 'these', 'include', 'the', 'way', 'semantic', 'knowledge', 'is', 'applied', 'when', 'interpreting', ',', 'analyzing', ',', 'and', 'reasoning', 'about', 'usage', 'patterns', 'during', 'the', 'mining', 'phase', '.', '[', '5', ']', 'Cons', '[', 'edit', ']', 'Web', 'usage', 'mining', 'by', 'itself', 'does', 'not', 'create', 'issues', ',', 'but', 'this', 'technology', 'when', 'used', 'on', 'data', 'of', 'personal', 'nature', 'might', 'cause', 'concerns', '.', 'The', 'most', 'criticized', 'ethical', 'issue', 'involving', 'web', 'usage', 'mining', 'is', 'the', 'invasion', 'of', 'privacy', '.', 'Privacy', 'is', 'considered', 'lost', 'when', 'information', 'concerning', 'an', 'individual', 'is', 'obtained', ',', 'used', ',', 'or', 'disseminated', ',', 'especially', 'if', 'this', 'occurs', 'without', 'the', 'individual', \"'s\", 'knowledge', 'or', 'consent', '.', '[', '6', ']', 'The', 'obtained', 'data', 'will', 'be', 'analyzed', ',', 'made', 'anonymous', ',', 'then', 'clustered', 'to', 'form', 'anonymous', 'profiles', '.', '[', '6', ']', 'These', 'applications', 'de-individualize', 'users', 'by', 'judging', 'them', 'by', 'their', 'mouse', 'clicks', 'rather', 'than', 'by', 'identifying', 'information', '.', 'De-individualization', 'in', 'general', 'can', 'be', 'defined', 'as', 'a', 'tendency', 'of', 'judging', 'and', 'treating', 'people', 'on', 'the', 'basis', 'of', 'group', 'characteristics', 'instead', 'of', 'on', 'their', 'own', 'individual', 'characteristics', 'and', 'merits', '.', '[', '6', ']', 'Another', 'important', 'concern', 'is', 'that', 'the', 'companies', 'collecting', 'the', 'data', 'for', 'a', 'specific', 'purpose', 'might', 'use', 'the', 'data', 'for', 'totally', 'different', 'purposes', ',', 'and', 'this', 'essentially', 'violates', 'the', 'user', \"'s\", 'interests', '.', 'The', 'growing', 'trend', 'of', 'selling', 'personal', 'data', 'as', 'a', 'commodity', 'encourages', 'website', 'owners', 'to', 'trade', 'personal', 'data', 'obtained', 'from', 'their', 'site', '.', 'This', 'trend', 'has', 'increased', 'the', 'amount', 'of', 'data', 'being', 'captured', 'and', 'traded', 'increasing', 'the', 'likeliness', 'of', 'one', \"'s\", 'privacy', 'being', 'invaded', '.', 'The', 'companies', 'which', 'buy', 'the', 'data', 'are', 'obliged', 'make', 'it', 'anonymous', 'and', 'these', 'companies', 'are', 'considered', 'authors', 'of', 'any', 'specific', 'release', 'of', 'mining', 'patterns', '.', 'They', 'are', 'legally', 'responsible', 'for', 'the', 'contents', 'of', 'the', 'release', ';', 'any', 'inaccuracies', 'in', 'the', 'release', 'will', 'result', 'in', 'serious', 'lawsuits', ',', 'but', 'there', 'is', 'no', 'law', 'preventing', 'them', 'from', 'trading', 'the', 'data', '.', 'Some', 'mining', 'algorithms', 'might', 'use', 'controversial', 'attributes', 'like', 'sex', ',', 'race', ',', 'religion', ',', 'or', 'sexual', 'orientation', 'to', 'categorize', 'individuals', '.', 'These', 'practices', 'might', 'be', 'against', 'the', 'anti-discrimination', 'legislation', '.', '[', '7', ']', 'The', 'applications', 'make', 'it', 'hard', 'to', 'identify', 'the', 'use', 'of', 'such', 'controversial', 'attributes', ',', 'and', 'there', 'is', 'no', 'strong', 'rule', 'against', 'the', 'usage', 'of', 'such', 'algorithms', 'with', 'such', 'attributes', '.', 'This', 'process', 'could', 'result', 'in', 'denial', 'of', 'service', 'or', 'a', 'privilege', 'to', 'an', 'individual', 'based', 'on', 'his', 'race', ',', 'religion', 'or', 'sexual', 'orientation', '.', 'This', 'situation', 'can', 'be', 'avoided', 'by', 'the', 'high', 'ethical', 'standards', 'maintained', 'by', 'the', 'data', 'mining', 'company', '.', 'The', 'collected', 'data', 'is', 'being', 'made', 'anonymous', 'so', 'that', ',', 'the', 'obtained', 'data', 'and', 'the', 'obtained', 'patterns', 'can', 'not', 'be', 'traced', 'back', 'to', 'an', 'individual', '.', 'It', 'might', 'look', 'as', 'if', 'this', 'poses', 'no', 'threat', 'to', 'one', \"'s\", 'privacy', ',', 'however', 'additional', 'information', 'can', 'be', 'inferred', 'by', 'the', 'application', 'by', 'combining', 'two', 'separate', 'unscrupulous', 'data', 'from', 'the', 'user', '.', 'Web', 'structure', 'mining', '[', 'edit', ']', 'Web', 'structure', 'mining', 'uses', 'graph', 'theory', 'to', 'analyze', 'the', 'node', 'and', 'connection', 'structure', 'of', 'a', 'web', 'site', '.', 'According', 'to', 'the', 'type', 'of', 'web', 'structural', 'data', ',', 'web', 'structure', 'mining', 'can', 'be', 'divided', 'into', 'two', 'kinds', ':', 'Web', 'structure', 'mining', 'terminology', ':', 'An', 'example', 'of', 'a', 'techniques', 'of', 'web', 'structure', 'mining', 'is', 'the', 'PageRank', 'algorithm', 'used', 'by', 'Google', 'to', 'rank', 'search', 'results', '.', 'The', 'rank', 'of', 'a', 'page', 'is', 'decided', 'by', 'the', 'number', 'and', 'quality', 'of', 'links', 'pointing', 'to', 'the', 'target', 'node', '.', 'Web', 'content', 'mining', '[', 'edit', ']', 'Web', 'content', 'mining', 'is', 'the', 'mining', ',', 'extraction', 'and', 'integration', 'of', 'useful', 'data', ',', 'information', 'and', 'knowledge', 'from', 'Web', 'page', 'content', '.', 'The', 'heterogeneity', 'and', 'the', 'lack', 'of', 'structure', 'that', 'permits', 'much', 'of', 'the', 'ever-expanding', 'information', 'sources', 'on', 'the', 'World', 'Wide', 'Web', ',', 'such', 'as', 'hypertext', 'documents', ',', 'makes', 'automated', 'discovery', ',', 'organization', ',', 'and', 'search', 'and', 'indexing', 'tools', 'of', 'the', 'Internet', 'and', 'the', 'World', 'Wide', 'Web', 'such', 'as', 'Lycos', ',', 'Alta', 'Vista', ',', 'WebCrawler', ',', 'Aliweb', ',', 'MetaCrawler', ',', 'and', 'others', 'provide', 'some', 'comfort', 'to', 'users', ',', 'but', 'they', 'do', 'not', 'generally', 'provide', 'structural', 'information', 'nor', 'categorize', ',', 'filter', ',', 'or', 'interpret', 'documents', '.', 'These', 'factors', 'have', 'prompted', 'researchers', 'to', 'develop', 'more', 'intelligent', 'tools', 'for', 'information', 'retrieval', ',', 'such', 'as', 'intelligent', 'web', 'agents', ',', 'as', 'well', 'as', 'to', 'extend', 'database', 'and', 'data', 'mining', 'techniques', 'to', 'provide', 'a', 'higher', 'level', 'of', 'organization', 'for', 'semi-structured', 'data', 'available', 'on', 'the', 'web', '.', 'The', 'agent-based', 'approach', 'to', 'web', 'mining', 'involves', 'the', 'development', 'of', 'sophisticated', 'AI', 'systems', 'that', 'can', 'act', 'autonomously', 'or', 'semi-autonomously', 'on', 'behalf', 'of', 'a', 'particular', 'user', ',', 'to', 'discover', 'and', 'organize', 'web-based', 'information', '.', 'Web', 'content', 'mining', 'is', 'differentiated', 'from', 'two', 'different', 'points', 'of', 'view', ':', '[', '8', ']', 'Information', 'Retrieval', 'View', 'and', 'Database', 'View', '.', '[', '9', ']', 'summarized', 'the', 'research', 'works', 'done', 'for', 'unstructured', 'data', 'and', 'semi-structured', 'data', 'from', 'information', 'retrieval', 'view', '.', 'It', 'shows', 'that', 'most', 'of', 'the', 'researches', 'use', 'bag', 'of', 'words', ',', 'which', 'is', 'based', 'on', 'the', 'statistics', 'about', 'single', 'words', 'in', 'isolation', ',', 'to', 'represent', 'unstructured', 'text', 'and', 'take', 'single', 'word', 'found', 'in', 'the', 'training', 'corpus', 'as', 'features', '.', 'For', 'the', 'semi-structured', 'data', ',', 'all', 'the', 'works', 'utilize', 'the', 'HTML', 'structures', 'inside', 'the', 'documents', 'and', 'some', 'utilized', 'the', 'hyperlink', 'structure', 'between', 'the', 'documents', 'for', 'document', 'representation', '.', 'As', 'for', 'the', 'database', 'view', ',', 'in', 'order', 'to', 'have', 'the', 'better', 'information', 'management', 'and', 'querying', 'on', 'the', 'web', ',', 'the', 'mining', 'always', 'tries', 'to', 'infer', 'the', 'structure', 'of', 'the', 'web', 'site', 'to', 'transform', 'a', 'web', 'site', 'to', 'become', 'a', 'database', '.', 'There', 'are', 'several', 'ways', 'to', 'represent', 'documents', ';', 'vector', 'space', 'model', 'is', 'typically', 'used', '.', 'The', 'documents', 'constitute', 'the', 'whole', 'vector', 'space', '.', 'This', 'representation', 'does', 'not', 'realize', 'the', 'importance', 'of', 'words', 'in', 'a', 'document', '.', 'To', 'resolve', 'this', ',', 'tf-idf', '(', 'Term', 'Frequency', 'Times', 'Inverse', 'Document', 'Frequency', ')', 'is', 'introduced', '.', 'By', 'multi-scanning', 'the', 'document', ',', 'we', 'can', 'implement', 'feature', 'selection', '.', 'Under', 'the', 'condition', 'that', 'the', 'category', 'result', 'is', 'rarely', 'affected', ',', 'the', 'extraction', 'of', 'feature', 'subset', 'is', 'needed', '.', 'The', 'general', 'algorithm', 'is', 'to', 'construct', 'an', 'evaluating', 'function', 'to', 'evaluate', 'the', 'features', '.', 'As', 'feature', 'set', ',', 'information', 'gain', ',', 'cross', 'entropy', ',', 'mutual', 'information', ',', 'and', 'odds', 'ratio', 'are', 'usually', 'used', '.', 'The', 'classifier', 'and', 'pattern', 'analysis', 'methods', 'of', 'text', 'data', 'mining', 'are', 'very', 'similar', 'to', 'traditional', 'data', 'mining', 'techniques', '.', 'The', 'usual', 'evaluative', 'merits', 'are', 'classification', 'accuracy', ',', 'precision', 'and', 'recall', 'and', 'information', 'score', '.', 'Web', 'mining', 'is', 'an', 'important', 'component', 'of', 'content', 'pipeline', 'for', 'web', 'portals', '.', 'It', 'is', 'used', 'in', 'data', 'confirmation', 'and', 'validity', 'verification', ',', 'data', 'integrity', 'and', 'building', 'taxonomies', ',', 'content', 'management', ',', 'content', 'generation', 'and', 'opinion', 'mining', '.', '[', '10', ']', 'Web', 'mining', 'can', 'complement', 'the', 'retrieval', 'of', 'structured', 'data', 'transmitted', 'with', 'open', 'protocols', 'like', 'OAI-PMH', ':', 'an', 'example', 'is', 'the', 'aggregation', 'of', 'works', 'from', 'academic', 'publications', ',', '[', '11', ']', 'which', 'are', 'mined', 'to', 'identify', 'open', 'access', 'versions', 'through', 'a', 'mix', 'of', 'open', 'source', 'and', 'open', 'data', 'methods', 'by', 'academic', 'databases', 'like', 'Unpaywall', '.', '[', '12', ']', 'Web', 'content', 'mining', 'in', 'foreign', 'languages', '[', 'edit', ']', 'Chinese', '[', 'edit', ']', 'The', 'language', 'code', 'of', 'Chinese', 'words', 'is', 'very', 'complicated', 'compared', 'to', 'that', 'of', 'English', '.', 'The', 'GB', ',', 'Big5', 'and', 'HZ', 'code', 'are', 'common', 'Chinese', 'word', 'codes', 'in', 'web', 'documents', '.', 'Before', 'text', 'mining', ',', 'one', 'needs', 'to', 'identify', 'the', 'code', 'standard', 'of', 'the', 'HTML', 'documents', 'and', 'transform', 'it', 'into', 'inner', 'code', ',', 'then', 'use', 'other', 'data', 'mining', 'techniques', 'to', 'find', 'useful', 'knowledge', 'and', 'useful', 'patterns', '.', 'See', 'also', '[', 'edit', ']', 'References', '[', 'edit', ']', 'Books', '[', 'edit', ']', 'Bibliographic', 'references', '[', 'edit', ']', 'Navigation', 'menu', 'Personal', 'tools', 'Namespaces', 'Variants', 'Views', 'More', 'Search', 'Navigation', 'Contribute', 'Tools', 'Print/export', 'Languages']\n",
      "Data Mining Page from Wikipedia\n",
      "['Data', 'mining', 'Data', 'mining', 'is', 'a', 'process', 'of', 'discovering', 'patterns', 'in', 'large', 'data', 'sets', 'involving', 'methods', 'at', 'the', 'intersection', 'of', 'machine', 'learning', ',', 'statistics', ',', 'and', 'database', 'systems', '.', '[', '1', ']', 'Data', 'mining', 'is', 'an', 'interdisciplinary', 'subfield', 'of', 'computer', 'science', 'and', 'statistics', 'with', 'an', 'overall', 'goal', 'to', 'extract', 'information', '(', 'with', 'intelligent', 'methods', ')', 'from', 'a', 'data', 'set', 'and', 'transform', 'the', 'information', 'into', 'a', 'comprehensible', 'structure', 'for', 'further', 'use', '.', '[', '1', ']', '[', '2', ']', '[', '3', ']', '[', '4', ']', 'Data', 'mining', 'is', 'the', 'analysis', 'step', 'of', 'the', '``', 'knowledge', 'discovery', 'in', 'databases', \"''\", 'process', ',', 'or', 'KDD', '.', '[', '5', ']', 'Aside', 'from', 'the', 'raw', 'analysis', 'step', ',', 'it', 'also', 'involves', 'database', 'and', 'data', 'management', 'aspects', ',', 'data', 'pre-processing', ',', 'model', 'and', 'inference', 'considerations', ',', 'interestingness', 'metrics', ',', 'complexity', 'considerations', ',', 'post-processing', 'of', 'discovered', 'structures', ',', 'visualization', ',', 'and', 'online', 'updating', '.', '[', '1', ']', 'The', 'term', '``', 'data', 'mining', \"''\", 'is', 'a', 'misnomer', ',', 'because', 'the', 'goal', 'is', 'the', 'extraction', 'of', 'patterns', 'and', 'knowledge', 'from', 'large', 'amounts', 'of', 'data', ',', 'not', 'the', 'extraction', '(', 'mining', ')', 'of', 'data', 'itself', '.', '[', '6', ']', 'It', 'also', 'is', 'a', 'buzzword', '[', '7', ']', 'and', 'is', 'frequently', 'applied', 'to', 'any', 'form', 'of', 'large-scale', 'data', 'or', 'information', 'processing', '(', 'collection', ',', 'extraction', ',', 'warehousing', ',', 'analysis', ',', 'and', 'statistics', ')', 'as', 'well', 'as', 'any', 'application', 'of', 'computer', 'decision', 'support', 'system', ',', 'including', 'artificial', 'intelligence', '(', 'e.g.', ',', 'machine', 'learning', ')', 'and', 'business', 'intelligence', '.', 'The', 'book', 'Data', 'mining', ':', 'Practical', 'machine', 'learning', 'tools', 'and', 'techniques', 'with', 'Java', '[', '8', ']', '(', 'which', 'covers', 'mostly', 'machine', 'learning', 'material', ')', 'was', 'originally', 'to', 'be', 'named', 'just', 'Practical', 'machine', 'learning', ',', 'and', 'the', 'term', 'data', 'mining', 'was', 'only', 'added', 'for', 'marketing', 'reasons', '.', '[', '9', ']', 'Often', 'the', 'more', 'general', 'terms', '(', 'large', 'scale', ')', 'data', 'analysis', 'and', 'analytics—or', ',', 'when', 'referring', 'to', 'actual', 'methods', ',', 'artificial', 'intelligence', 'and', 'machine', 'learning—are', 'more', 'appropriate', '.', 'The', 'actual', 'data', 'mining', 'task', 'is', 'the', 'semi-automatic', 'or', 'automatic', 'analysis', 'of', 'large', 'quantities', 'of', 'data', 'to', 'extract', 'previously', 'unknown', ',', 'interesting', 'patterns', 'such', 'as', 'groups', 'of', 'data', 'records', '(', 'cluster', 'analysis', ')', ',', 'unusual', 'records', '(', 'anomaly', 'detection', ')', ',', 'and', 'dependencies', '(', 'association', 'rule', 'mining', ',', 'sequential', 'pattern', 'mining', ')', '.', 'This', 'usually', 'involves', 'using', 'database', 'techniques', 'such', 'as', 'spatial', 'indices', '.', 'These', 'patterns', 'can', 'then', 'be', 'seen', 'as', 'a', 'kind', 'of', 'summary', 'of', 'the', 'input', 'data', ',', 'and', 'may', 'be', 'used', 'in', 'further', 'analysis', 'or', ',', 'for', 'example', ',', 'in', 'machine', 'learning', 'and', 'predictive', 'analytics', '.', 'For', 'example', ',', 'the', 'data', 'mining', 'step', 'might', 'identify', 'multiple', 'groups', 'in', 'the', 'data', ',', 'which', 'can', 'then', 'be', 'used', 'to', 'obtain', 'more', 'accurate', 'prediction', 'results', 'by', 'a', 'decision', 'support', 'system', '.', 'Neither', 'the', 'data', 'collection', ',', 'data', 'preparation', ',', 'nor', 'result', 'interpretation', 'and', 'reporting', 'is', 'part', 'of', 'the', 'data', 'mining', 'step', ',', 'but', 'do', 'belong', 'to', 'the', 'overall', 'KDD', 'process', 'as', 'additional', 'steps', '.', 'The', 'difference', 'between', 'data', 'analysis', 'and', 'data', 'mining', 'is', 'that', 'data', 'analysis', 'is', 'used', 'to', 'test', 'models', 'and', 'hypotheses', 'on', 'the', 'dataset', ',', 'e.g.', ',', 'analyzing', 'the', 'effectiveness', 'of', 'a', 'marketing', 'campaign', ',', 'regardless', 'of', 'the', 'amount', 'of', 'data', ';', 'in', 'contrast', ',', 'data', 'mining', 'uses', 'machine', 'learning', 'and', 'statistical', 'models', 'to', 'uncover', 'clandestine', 'or', 'hidden', 'patterns', 'in', 'a', 'large', 'volume', 'of', 'data', '.', '[', '10', ']', 'The', 'related', 'terms', 'data', 'dredging', ',', 'data', 'fishing', ',', 'and', 'data', 'snooping', 'refer', 'to', 'the', 'use', 'of', 'data', 'mining', 'methods', 'to', 'sample', 'parts', 'of', 'a', 'larger', 'population', 'data', 'set', 'that', 'are', '(', 'or', 'may', 'be', ')', 'too', 'small', 'for', 'reliable', 'statistical', 'inferences', 'to', 'be', 'made', 'about', 'the', 'validity', 'of', 'any', 'patterns', 'discovered', '.', 'These', 'methods', 'can', ',', 'however', ',', 'be', 'used', 'in', 'creating', 'new', 'hypotheses', 'to', 'test', 'against', 'the', 'larger', 'data', 'populations', '.', 'Contents', 'Etymology', '[', 'edit', ']', 'In', 'the', '1960s', ',', 'statisticians', 'and', 'economists', 'used', 'terms', 'like', 'data', 'fishing', 'or', 'data', 'dredging', 'to', 'refer', 'to', 'what', 'they', 'considered', 'the', 'bad', 'practice', 'of', 'analyzing', 'data', 'without', 'an', 'a-priori', 'hypothesis', '.', 'The', 'term', '``', 'data', 'mining', \"''\", 'was', 'used', 'in', 'a', 'similarly', 'critical', 'way', 'by', 'economist', 'Michael', 'Lovell', 'in', 'an', 'article', 'published', 'in', 'the', 'Review', 'of', 'Economic', 'Studies', 'in', '1983', '.', '[', '11', ']', '[', '12', ']', 'Lovell', 'indicates', 'that', 'the', 'practice', '``', 'masquerades', 'under', 'a', 'variety', 'of', 'aliases', ',', 'ranging', 'from', '``', 'experimentation', \"''\", '(', 'positive', ')', 'to', '``', 'fishing', \"''\", 'or', '``', 'snooping', \"''\", '(', 'negative', ')', '.', 'The', 'term', 'data', 'mining', 'appeared', 'around', '1990', 'in', 'the', 'database', 'community', ',', 'generally', 'with', 'positive', 'connotations', '.', 'For', 'a', 'short', 'time', 'in', '1980s', ',', 'a', 'phrase', '``', 'database', 'mining', \"''\", '™', ',', 'was', 'used', ',', 'but', 'since', 'it', 'was', 'trademarked', 'by', 'HNC', ',', 'a', 'San', 'Diego-based', 'company', ',', 'to', 'pitch', 'their', 'Database', 'Mining', 'Workstation', ';', '[', '13', ']', 'researchers', 'consequently', 'turned', 'to', 'data', 'mining', '.', 'Other', 'terms', 'used', 'include', 'data', 'archaeology', ',', 'information', 'harvesting', ',', 'information', 'discovery', ',', 'knowledge', 'extraction', ',', 'etc', '.', 'Gregory', 'Piatetsky-Shapiro', 'coined', 'the', 'term', '``', 'knowledge', 'discovery', 'in', 'databases', \"''\", 'for', 'the', 'first', 'workshop', 'on', 'the', 'same', 'topic', '(', 'KDD-1989', ')', 'and', 'this', 'term', 'became', 'more', 'popular', 'in', 'AI', 'and', 'machine', 'learning', 'community', '.', 'However', ',', 'the', 'term', 'data', 'mining', 'became', 'more', 'popular', 'in', 'the', 'business', 'and', 'press', 'communities', '.', '[', '14', ']', 'Currently', ',', 'the', 'terms', 'data', 'mining', 'and', 'knowledge', 'discovery', 'are', 'used', 'interchangeably', '.', 'In', 'the', 'academic', 'community', ',', 'the', 'major', 'forums', 'for', 'research', 'started', 'in', '1995', 'when', 'the', 'First', 'International', 'Conference', 'on', 'Data', 'Mining', 'and', 'Knowledge', 'Discovery', '(', 'KDD-95', ')', 'was', 'started', 'in', 'Montreal', 'under', 'AAAI', 'sponsorship', '.', 'It', 'was', 'co-chaired', 'by', 'Usama', 'Fayyad', 'and', 'Ramasamy', 'Uthurusamy', '.', 'A', 'year', 'later', ',', 'in', '1996', ',', 'Usama', 'Fayyad', 'launched', 'the', 'journal', 'by', 'Kluwer', 'called', 'Data', 'Mining', 'and', 'Knowledge', 'Discovery', 'as', 'its', 'founding', 'editor-in-chief', '.', 'Later', 'he', 'started', 'the', 'SIGKDD', 'Newsletter', 'SIGKDD', 'Explorations', '.', '[', '15', ']', 'The', 'KDD', 'International', 'conference', 'became', 'the', 'primary', 'highest', 'quality', 'conference', 'in', 'data', 'mining', 'with', 'an', 'acceptance', 'rate', 'of', 'research', 'paper', 'submissions', 'below', '18', '%', '.', 'The', 'journal', 'Data', 'Mining', 'and', 'Knowledge', 'Discovery', 'is', 'the', 'primary', 'research', 'journal', 'of', 'the', 'field', '.', 'Background', '[', 'edit', ']', 'The', 'manual', 'extraction', 'of', 'patterns', 'from', 'data', 'has', 'occurred', 'for', 'centuries', '.', 'Early', 'methods', 'of', 'identifying', 'patterns', 'in', 'data', 'include', 'Bayes', \"'\", 'theorem', '(', '1700s', ')', 'and', 'regression', 'analysis', '(', '1800s', ')', '.', 'The', 'proliferation', ',', 'ubiquity', 'and', 'increasing', 'power', 'of', 'computer', 'technology', 'have', 'dramatically', 'increased', 'data', 'collection', ',', 'storage', ',', 'and', 'manipulation', 'ability', '.', 'As', 'data', 'sets', 'have', 'grown', 'in', 'size', 'and', 'complexity', ',', 'direct', '``', 'hands-on', \"''\", 'data', 'analysis', 'has', 'increasingly', 'been', 'augmented', 'with', 'indirect', ',', 'automated', 'data', 'processing', ',', 'aided', 'by', 'other', 'discoveries', 'in', 'computer', 'science', ',', 'specially', 'in', 'the', 'field', 'of', 'machine', 'learning', ',', 'such', 'as', 'neural', 'networks', ',', 'cluster', 'analysis', ',', 'genetic', 'algorithms', '(', '1950s', ')', ',', 'decision', 'trees', 'and', 'decision', 'rules', '(', '1960s', ')', ',', 'and', 'support', 'vector', 'machines', '(', '1990s', ')', '.', 'Data', 'mining', 'is', 'the', 'process', 'of', 'applying', 'these', 'methods', 'with', 'the', 'intention', 'of', 'uncovering', 'hidden', 'patterns', '.', '[', '16', ']', 'in', 'large', 'data', 'sets', '.', 'It', 'bridges', 'the', 'gap', 'from', 'applied', 'statistics', 'and', 'artificial', 'intelligence', '(', 'which', 'usually', 'provide', 'the', 'mathematical', 'background', ')', 'to', 'database', 'management', 'by', 'exploiting', 'the', 'way', 'data', 'is', 'stored', 'and', 'indexed', 'in', 'databases', 'to', 'execute', 'the', 'actual', 'learning', 'and', 'discovery', 'algorithms', 'more', 'efficiently', ',', 'allowing', 'such', 'methods', 'to', 'be', 'applied', 'to', 'ever-larger', 'data', 'sets', '.', 'Process', '[', 'edit', ']', 'The', 'knowledge', 'discovery', 'in', 'databases', '(', 'KDD', ')', 'process', 'is', 'commonly', 'defined', 'with', 'the', 'stages', ':', 'It', 'exists', ',', 'however', ',', 'in', 'many', 'variations', 'on', 'this', 'theme', ',', 'such', 'as', 'the', 'Cross-industry', 'standard', 'process', 'for', 'data', 'mining', '(', 'CRISP-DM', ')', 'which', 'defines', 'six', 'phases', ':', 'or', 'a', 'simplified', 'process', 'such', 'as', '(', '1', ')', 'Pre-processing', ',', '(', '2', ')', 'Data', 'Mining', ',', 'and', '(', '3', ')', 'Results', 'Validation', '.', 'Polls', 'conducted', 'in', '2002', ',', '2004', ',', '2007', 'and', '2014', 'show', 'that', 'the', 'CRISP-DM', 'methodology', 'is', 'the', 'leading', 'methodology', 'used', 'by', 'data', 'miners', '.', '[', '17', ']', 'The', 'only', 'other', 'data', 'mining', 'standard', 'named', 'in', 'these', 'polls', 'was', 'SEMMA', '.', 'However', ',', '3–4', 'times', 'as', 'many', 'people', 'reported', 'using', 'CRISP-DM', '.', 'Several', 'teams', 'of', 'researchers', 'have', 'published', 'reviews', 'of', 'data', 'mining', 'process', 'models', ',', '[', '18', ']', 'and', 'Azevedo', 'and', 'Santos', 'conducted', 'a', 'comparison', 'of', 'CRISP-DM', 'and', 'SEMMA', 'in', '2008', '.', '[', '19', ']', 'Pre-processing', '[', 'edit', ']', 'Before', 'data', 'mining', 'algorithms', 'can', 'be', 'used', ',', 'a', 'target', 'data', 'set', 'must', 'be', 'assembled', '.', 'As', 'data', 'mining', 'can', 'only', 'uncover', 'patterns', 'actually', 'present', 'in', 'the', 'data', ',', 'the', 'target', 'data', 'set', 'must', 'be', 'large', 'enough', 'to', 'contain', 'these', 'patterns', 'while', 'remaining', 'concise', 'enough', 'to', 'be', 'mined', 'within', 'an', 'acceptable', 'time', 'limit', '.', 'A', 'common', 'source', 'for', 'data', 'is', 'a', 'data', 'mart', 'or', 'data', 'warehouse', '.', 'Pre-processing', 'is', 'essential', 'to', 'analyze', 'the', 'multivariate', 'data', 'sets', 'before', 'data', 'mining', '.', 'The', 'target', 'set', 'is', 'then', 'cleaned', '.', 'Data', 'cleaning', 'removes', 'the', 'observations', 'containing', 'noise', 'and', 'those', 'with', 'missing', 'data', '.', 'Data', 'mining', '[', 'edit', ']', 'Data', 'mining', 'involves', 'six', 'common', 'classes', 'of', 'tasks', ':', '[', '5', ']', 'Results', 'validation', '[', 'edit', ']', 'Data', 'mining', 'can', 'unintentionally', 'be', 'misused', ',', 'and', 'can', 'then', 'produce', 'results', 'that', 'appear', 'to', 'be', 'significant', ';', 'but', 'which', 'do', 'not', 'actually', 'predict', 'future', 'behavior', 'and', 'can', 'not', 'be', 'reproduced', 'on', 'a', 'new', 'sample', 'of', 'data', 'and', 'bear', 'little', 'use', '.', 'Often', 'this', 'results', 'from', 'investigating', 'too', 'many', 'hypotheses', 'and', 'not', 'performing', 'proper', 'statistical', 'hypothesis', 'testing', '.', 'A', 'simple', 'version', 'of', 'this', 'problem', 'in', 'machine', 'learning', 'is', 'known', 'as', 'overfitting', ',', 'but', 'the', 'same', 'problem', 'can', 'arise', 'at', 'different', 'phases', 'of', 'the', 'process', 'and', 'thus', 'a', 'train/test', 'split—when', 'applicable', 'at', 'all—may', 'not', 'be', 'sufficient', 'to', 'prevent', 'this', 'from', 'happening', '.', '[', '20', ']', 'The', 'final', 'step', 'of', 'knowledge', 'discovery', 'from', 'data', 'is', 'to', 'verify', 'that', 'the', 'patterns', 'produced', 'by', 'the', 'data', 'mining', 'algorithms', 'occur', 'in', 'the', 'wider', 'data', 'set', '.', 'Not', 'all', 'patterns', 'found', 'by', 'data', 'mining', 'algorithms', 'are', 'necessarily', 'valid', '.', 'It', 'is', 'common', 'for', 'data', 'mining', 'algorithms', 'to', 'find', 'patterns', 'in', 'the', 'training', 'set', 'which', 'are', 'not', 'present', 'in', 'the', 'general', 'data', 'set', '.', 'This', 'is', 'called', 'overfitting', '.', 'To', 'overcome', 'this', ',', 'the', 'evaluation', 'uses', 'a', 'test', 'set', 'of', 'data', 'on', 'which', 'the', 'data', 'mining', 'algorithm', 'was', 'not', 'trained', '.', 'The', 'learned', 'patterns', 'are', 'applied', 'to', 'this', 'test', 'set', ',', 'and', 'the', 'resulting', 'output', 'is', 'compared', 'to', 'the', 'desired', 'output', '.', 'For', 'example', ',', 'a', 'data', 'mining', 'algorithm', 'trying', 'to', 'distinguish', '``', 'spam', \"''\", 'from', '``', 'legitimate', \"''\", 'emails', 'would', 'be', 'trained', 'on', 'a', 'training', 'set', 'of', 'sample', 'e-mails', '.', 'Once', 'trained', ',', 'the', 'learned', 'patterns', 'would', 'be', 'applied', 'to', 'the', 'test', 'set', 'of', 'e-mails', 'on', 'which', 'it', 'had', 'not', 'been', 'trained', '.', 'The', 'accuracy', 'of', 'the', 'patterns', 'can', 'then', 'be', 'measured', 'from', 'how', 'many', 'e-mails', 'they', 'correctly', 'classify', '.', 'Several', 'statistical', 'methods', 'may', 'be', 'used', 'to', 'evaluate', 'the', 'algorithm', ',', 'such', 'as', 'ROC', 'curves', '.', 'If', 'the', 'learned', 'patterns', 'do', 'not', 'meet', 'the', 'desired', 'standards', ',', 'subsequently', 'it', 'is', 'necessary', 'to', 're-evaluate', 'and', 'change', 'the', 'pre-processing', 'and', 'data', 'mining', 'steps', '.', 'If', 'the', 'learned', 'patterns', 'do', 'meet', 'the', 'desired', 'standards', ',', 'then', 'the', 'final', 'step', 'is', 'to', 'interpret', 'the', 'learned', 'patterns', 'and', 'turn', 'them', 'into', 'knowledge', '.', 'Research', '[', 'edit', ']', 'The', 'premier', 'professional', 'body', 'in', 'the', 'field', 'is', 'the', 'Association', 'for', 'Computing', 'Machinery', \"'s\", '(', 'ACM', ')', 'Special', 'Interest', 'Group', '(', 'SIG', ')', 'on', 'Knowledge', 'Discovery', 'and', 'Data', 'Mining', '(', 'SIGKDD', ')', '.', '[', '21', ']', '[', '22', ']', 'Since', '1989', ',', 'this', 'ACM', 'SIG', 'has', 'hosted', 'an', 'annual', 'international', 'conference', 'and', 'published', 'its', 'proceedings', ',', '[', '23', ']', 'and', 'since', '1999', 'it', 'has', 'published', 'a', 'biannual', 'academic', 'journal', 'titled', '``', 'SIGKDD', 'Explorations', \"''\", '.', '[', '24', ']', 'Computer', 'science', 'conferences', 'on', 'data', 'mining', 'include', ':', 'Data', 'mining', 'topics', 'are', 'also', 'present', 'on', 'many', 'data', 'management/database', 'conferences', 'such', 'as', 'the', 'ICDE', 'Conference', ',', 'SIGMOD', 'Conference', 'and', 'International', 'Conference', 'on', 'Very', 'Large', 'Data', 'Bases', 'Standards', '[', 'edit', ']', 'There', 'have', 'been', 'some', 'efforts', 'to', 'define', 'standards', 'for', 'the', 'data', 'mining', 'process', ',', 'for', 'example', ',', 'the', '1999', 'European', 'Cross', 'Industry', 'Standard', 'Process', 'for', 'Data', 'Mining', '(', 'CRISP-DM', '1.0', ')', 'and', 'the', '2004', 'Java', 'Data', 'Mining', 'standard', '(', 'JDM', '1.0', ')', '.', 'Development', 'on', 'successors', 'to', 'these', 'processes', '(', 'CRISP-DM', '2.0', 'and', 'JDM', '2.0', ')', 'was', 'active', 'in', '2006', 'but', 'has', 'stalled', 'since', '.', 'JDM', '2.0', 'was', 'withdrawn', 'without', 'reaching', 'a', 'final', 'draft', '.', 'For', 'exchanging', 'the', 'extracted', 'models—in', 'particular', 'for', 'use', 'in', 'predictive', 'analytics—the', 'key', 'standard', 'is', 'the', 'Predictive', 'Model', 'Markup', 'Language', '(', 'PMML', ')', ',', 'which', 'is', 'an', 'XML-based', 'language', 'developed', 'by', 'the', 'Data', 'Mining', 'Group', '(', 'DMG', ')', 'and', 'supported', 'as', 'exchange', 'format', 'by', 'many', 'data', 'mining', 'applications', '.', 'As', 'the', 'name', 'suggests', ',', 'it', 'only', 'covers', 'prediction', 'models', ',', 'a', 'particular', 'data', 'mining', 'task', 'of', 'high', 'importance', 'to', 'business', 'applications', '.', 'However', ',', 'extensions', 'to', 'cover', '(', 'for', 'example', ')', 'subspace', 'clustering', 'have', 'been', 'proposed', 'independently', 'of', 'the', 'DMG', '.', '[', '25', ']', 'Notable', 'uses', '[', 'edit', ']', 'Data', 'mining', 'is', 'used', 'wherever', 'there', 'is', 'digital', 'data', 'available', 'today', '.', 'Notable', 'examples', 'of', 'data', 'mining', 'can', 'be', 'found', 'throughout', 'business', ',', 'medicine', ',', 'science', ',', 'and', 'surveillance', '.', 'Privacy', 'concerns', 'and', 'ethics', '[', 'edit', ']', 'While', 'the', 'term', '``', 'data', 'mining', \"''\", 'itself', 'may', 'have', 'no', 'ethical', 'implications', ',', 'it', 'is', 'often', 'associated', 'with', 'the', 'mining', 'of', 'information', 'in', 'relation', 'to', 'peoples', \"'\", 'behavior', '(', 'ethical', 'and', 'otherwise', ')', '.', '[', '26', ']', 'The', 'ways', 'in', 'which', 'data', 'mining', 'can', 'be', 'used', 'can', 'in', 'some', 'cases', 'and', 'contexts', 'raise', 'questions', 'regarding', 'privacy', ',', 'legality', ',', 'and', 'ethics', '.', '[', '27', ']', 'In', 'particular', ',', 'data', 'mining', 'government', 'or', 'commercial', 'data', 'sets', 'for', 'national', 'security', 'or', 'law', 'enforcement', 'purposes', ',', 'such', 'as', 'in', 'the', 'Total', 'Information', 'Awareness', 'Program', 'or', 'in', 'ADVISE', ',', 'has', 'raised', 'privacy', 'concerns', '.', '[', '28', ']', '[', '29', ']', 'Data', 'mining', 'requires', 'data', 'preparation', 'which', 'uncovers', 'information', 'or', 'patterns', 'which', 'compromise', 'confidentiality', 'and', 'privacy', 'obligations', '.', 'A', 'common', 'way', 'for', 'this', 'to', 'occur', 'is', 'through', 'data', 'aggregation', '.', 'Data', 'aggregation', 'involves', 'combining', 'data', 'together', '(', 'possibly', 'from', 'various', 'sources', ')', 'in', 'a', 'way', 'that', 'facilitates', 'analysis', '(', 'but', 'that', 'also', 'might', 'make', 'identification', 'of', 'private', ',', 'individual-level', 'data', 'deducible', 'or', 'otherwise', 'apparent', ')', '.', '[', '30', ']', 'This', 'is', 'not', 'data', 'mining', 'per', 'se', ',', 'but', 'a', 'result', 'of', 'the', 'preparation', 'of', 'data', 'before—and', 'for', 'the', 'purposes', 'of—the', 'analysis', '.', 'The', 'threat', 'to', 'an', 'individual', \"'s\", 'privacy', 'comes', 'into', 'play', 'when', 'the', 'data', ',', 'once', 'compiled', ',', 'cause', 'the', 'data', 'miner', ',', 'or', 'anyone', 'who', 'has', 'access', 'to', 'the', 'newly', 'compiled', 'data', 'set', ',', 'to', 'be', 'able', 'to', 'identify', 'specific', 'individuals', ',', 'especially', 'when', 'the', 'data', 'were', 'originally', 'anonymous', '.', '[', '31', ']', '[', '32', ']', '[', '33', ']', 'It', 'is', 'recommended', '[', 'according', 'to', 'whom', '?', ']', 'to', 'be', 'aware', 'of', 'the', 'following', 'before', 'data', 'are', 'collected', ':', '[', '30', ']', 'Data', 'may', 'also', 'be', 'modified', 'so', 'as', 'to', 'become', 'anonymous', ',', 'so', 'that', 'individuals', 'may', 'not', 'readily', 'be', 'identified', '.', '[', '30', ']', 'However', ',', 'even', '``', 'anonymized', \"''\", 'data', 'sets', 'can', 'potentially', 'contain', 'enough', 'information', 'to', 'allow', 'identification', 'of', 'individuals', ',', 'as', 'occurred', 'when', 'journalists', 'were', 'able', 'to', 'find', 'several', 'individuals', 'based', 'on', 'a', 'set', 'of', 'search', 'histories', 'that', 'were', 'inadvertently', 'released', 'by', 'AOL', '.', '[', '34', ']', 'The', 'inadvertent', 'revelation', 'of', 'personally', 'identifiable', 'information', 'leading', 'to', 'the', 'provider', 'violates', 'Fair', 'Information', 'Practices', '.', 'This', 'indiscretion', 'can', 'cause', 'financial', ',', 'emotional', ',', 'or', 'bodily', 'harm', 'to', 'the', 'indicated', 'individual', '.', 'In', 'one', 'instance', 'of', 'privacy', 'violation', ',', 'the', 'patrons', 'of', 'Walgreens', 'filed', 'a', 'lawsuit', 'against', 'the', 'company', 'in', '2011', 'for', 'selling', 'prescription', 'information', 'to', 'data', 'mining', 'companies', 'who', 'in', 'turn', 'provided', 'the', 'data', 'to', 'pharmaceutical', 'companies', '.', '[', '35', ']', 'Situation', 'in', 'Europe', '[', 'edit', ']', 'Europe', 'has', 'rather', 'strong', 'privacy', 'laws', ',', 'and', 'efforts', 'are', 'underway', 'to', 'further', 'strengthen', 'the', 'rights', 'of', 'the', 'consumers', '.', 'However', ',', 'the', 'U.S.–E.U', '.', 'Safe', 'Harbor', 'Principles', ',', 'developed', 'between', '1998', 'and', '2000', ',', 'currently', 'effectively', 'expose', 'European', 'users', 'to', 'privacy', 'exploitation', 'by', 'U.S.', 'companies', '.', 'As', 'a', 'consequence', 'of', 'Edward', 'Snowden', \"'s\", 'global', 'surveillance', 'disclosure', ',', 'there', 'has', 'been', 'increased', 'discussion', 'to', 'revoke', 'this', 'agreement', ',', 'as', 'in', 'particular', 'the', 'data', 'will', 'be', 'fully', 'exposed', 'to', 'the', 'National', 'Security', 'Agency', ',', 'and', 'attempts', 'to', 'reach', 'an', 'agreement', 'with', 'the', 'United', 'States', 'have', 'failed', '.', '[', '36', ']', 'In', 'the', 'United', 'Kingdom', 'in', 'particular', 'there', 'have', 'been', 'cases', 'of', 'corporations', 'using', 'data', 'mining', 'as', 'a', 'way', 'to', 'target', 'certain', 'groups', 'of', 'customers', 'forcing', 'them', 'to', 'pay', 'unfairly', 'high', 'prices', '.', 'These', 'groups', 'tend', 'to', 'be', 'people', 'of', 'lower', 'socio-economic', 'status', 'who', 'are', 'not', 'savvy', 'to', 'the', 'ways', 'they', 'can', 'be', 'exploited', 'in', 'digital', 'market', 'places', '.', '[', '37', ']', 'Situation', 'in', 'the', 'United', 'States', '[', 'edit', ']', 'In', 'the', 'United', 'States', ',', 'privacy', 'concerns', 'have', 'been', 'addressed', 'by', 'the', 'US', 'Congress', 'via', 'the', 'passage', 'of', 'regulatory', 'controls', 'such', 'as', 'the', 'Health', 'Insurance', 'Portability', 'and', 'Accountability', 'Act', '(', 'HIPAA', ')', '.', 'The', 'HIPAA', 'requires', 'individuals', 'to', 'give', 'their', '``', 'informed', 'consent', \"''\", 'regarding', 'information', 'they', 'provide', 'and', 'its', 'intended', 'present', 'and', 'future', 'uses', '.', 'According', 'to', 'an', 'article', 'in', 'Biotech', 'Business', 'Week', ',', '``', \"'\", '[', 'i', ']', 'n', 'practice', ',', 'HIPAA', 'may', 'not', 'offer', 'any', 'greater', 'protection', 'than', 'the', 'longstanding', 'regulations', 'in', 'the', 'research', 'arena', ',', \"'\", 'says', 'the', 'AAHC', '.', 'More', 'importantly', ',', 'the', 'rule', \"'s\", 'goal', 'of', 'protection', 'through', 'informed', 'consent', 'is', 'approach', 'a', 'level', 'of', 'incomprehensibility', 'to', 'average', 'individuals', '.', '``', '[', '38', ']', 'This', 'underscores', 'the', 'necessity', 'for', 'data', 'anonymity', 'in', 'data', 'aggregation', 'and', 'mining', 'practices', '.', 'U.S.', 'information', 'privacy', 'legislation', 'such', 'as', 'HIPAA', 'and', 'the', 'Family', 'Educational', 'Rights', 'and', 'Privacy', 'Act', '(', 'FERPA', ')', 'applies', 'only', 'to', 'the', 'specific', 'areas', 'that', 'each', 'such', 'law', 'addresses', '.', 'The', 'use', 'of', 'data', 'mining', 'by', 'the', 'majority', 'of', 'businesses', 'in', 'the', 'U.S.', 'is', 'not', 'controlled', 'by', 'any', 'legislation', '.', 'Copyright', 'law', '[', 'edit', ']', 'Situation', 'in', 'Europe', '[', 'edit', ']', 'Under', 'European', 'copyright', 'and', 'database', 'laws', ',', 'the', 'mining', 'of', 'in-copyright', 'works', '(', 'such', 'as', 'by', 'web', 'mining', ')', 'without', 'the', 'permission', 'of', 'the', 'copyright', 'owner', 'is', 'not', 'legal', '.', 'Where', 'a', 'database', 'is', 'pure', 'data', 'in', 'Europe', ',', 'it', 'may', 'be', 'that', 'there', 'is', 'no', 'copyright—but', 'database', 'rights', 'may', 'exist', 'so', 'data', 'mining', 'becomes', 'subject', 'to', 'intellectual', 'property', 'owners', \"'\", 'rights', 'that', 'are', 'protected', 'by', 'the', 'Database', 'Directive', '.', 'On', 'the', 'recommendation', 'of', 'the', 'Hargreaves', 'review', ',', 'this', 'led', 'to', 'the', 'UK', 'government', 'to', 'amend', 'its', 'copyright', 'law', 'in', '2014', 'to', 'allow', 'content', 'mining', 'as', 'a', 'limitation', 'and', 'exception', '.', '[', '39', ']', 'The', 'UK', 'was', 'the', 'second', 'country', 'in', 'the', 'world', 'to', 'do', 'so', 'after', 'Japan', ',', 'which', 'introduced', 'an', 'exception', 'in', '2009', 'for', 'data', 'mining', '.', 'However', ',', 'due', 'to', 'the', 'restriction', 'of', 'the', 'Information', 'Society', 'Directive', '(', '2001', ')', ',', 'the', 'UK', 'exception', 'only', 'allows', 'content', 'mining', 'for', 'non-commercial', 'purposes', '.', 'UK', 'copyright', 'law', 'also', 'does', 'not', 'allow', 'this', 'provision', 'to', 'be', 'overridden', 'by', 'contractual', 'terms', 'and', 'conditions', '.', 'The', 'European', 'Commission', 'facilitated', 'stakeholder', 'discussion', 'on', 'text', 'and', 'data', 'mining', 'in', '2013', ',', 'under', 'the', 'title', 'of', 'Licences', 'for', 'Europe', '.', '[', '40', ']', 'The', 'focus', 'on', 'the', 'solution', 'to', 'this', 'legal', 'issue', ',', 'such', 'as', 'licensing', 'rather', 'than', 'limitations', 'and', 'exceptions', ',', 'led', 'to', 'representatives', 'of', 'universities', ',', 'researchers', ',', 'libraries', ',', 'civil', 'society', 'groups', 'and', 'open', 'access', 'publishers', 'to', 'leave', 'the', 'stakeholder', 'dialogue', 'in', 'May', '2013', '.', '[', '41', ']', 'Situation', 'in', 'the', 'United', 'States', '[', 'edit', ']', 'US', 'copyright', 'law', ',', 'and', 'in', 'particular', 'its', 'provision', 'for', 'fair', 'use', ',', 'upholds', 'the', 'legality', 'of', 'content', 'mining', 'in', 'America', ',', 'and', 'other', 'fair', 'use', 'countries', 'such', 'as', 'Israel', ',', 'Taiwan', 'and', 'South', 'Korea', '.', 'As', 'content', 'mining', 'is', 'transformative', ',', 'that', 'is', 'it', 'does', 'not', 'supplant', 'the', 'original', 'work', ',', 'it', 'is', 'viewed', 'as', 'being', 'lawful', 'under', 'fair', 'use', '.', 'For', 'example', ',', 'as', 'part', 'of', 'the', 'Google', 'Book', 'settlement', 'the', 'presiding', 'judge', 'on', 'the', 'case', 'ruled', 'that', 'Google', \"'s\", 'digitization', 'project', 'of', 'in-copyright', 'books', 'was', 'lawful', ',', 'in', 'part', 'because', 'of', 'the', 'transformative', 'uses', 'that', 'the', 'digitization', 'project', 'displayed—one', 'being', 'text', 'and', 'data', 'mining', '.', '[', '42', ']', 'Software', '[', 'edit', ']', 'Free', 'open-source', 'data', 'mining', 'software', 'and', 'applications', '[', 'edit', ']', 'The', 'following', 'applications', 'are', 'available', 'under', 'free/open-source', 'licenses', '.', 'Public', 'access', 'to', 'application', 'source', 'code', 'is', 'also', 'available', '.', 'Proprietary', 'data-mining', 'software', 'and', 'applications', '[', 'edit', ']', 'The', 'following', 'applications', 'are', 'available', 'under', 'proprietary', 'licenses', '.', 'See', 'also', '[', 'edit', ']', 'For', 'more', 'information', 'about', 'extracting', 'information', 'out', 'of', 'data', '(', 'as', 'opposed', 'to', 'analyzing', 'data', ')', ',', 'see', ':', 'References', '[', 'edit', ']', 'Further', 'reading', '[', 'edit', ']', 'External', 'links', '[', 'edit', ']', 'Navigation', 'menu', 'Personal', 'tools', 'Namespaces', 'Variants', 'Views', 'More', 'Search', 'Navigation', 'Contribute', 'Tools', 'Print/export', 'In', 'other', 'projects', 'Languages']\n"
     ]
    }
   ],
   "source": [
    "#Extracting Documents from Internet\n",
    "import re\n",
    "import pandas as pd\n",
    "from urllib import request\n",
    "from bs4 import BeautifulSoup\n",
    "from nltk.corpus import stopwords\n",
    "from nltk.stem import WordNetLemmatizer \n",
    "from nltk.tokenize import word_tokenize\n",
    "from nltk.stem.snowball import SnowballStemmer\n",
    "from nltk.tokenize import sent_tokenize, word_tokenize\n",
    "\n",
    "url=\"https://en.wikipedia.org/wiki/Web_mining\"\n",
    "html=request.urlopen(url).read().decode('utf8')\n",
    "soup1=BeautifulSoup(html, 'html.parser')\n",
    "l1=[]\n",
    "term1=[]\n",
    "for titles in soup1.find_all(['h1', 'h2','h3','h4','h5','h6', 'p']):\n",
    "    l1=word_tokenize(titles.text)\n",
    "    term1=term1+l1\n",
    "    \n",
    "url=\"https://en.wikipedia.org/wiki/Data_mining\"\n",
    "html=request.urlopen(url).read().decode('utf8')\n",
    "soup2=BeautifulSoup(html, 'html.parser')\n",
    "l2=[]\n",
    "term2=[]\n",
    "for titles in soup2.find_all(['h1', 'h2','h3','h4','h5','h6', 'p']):\n",
    "    l2=word_tokenize(titles.text)\n",
    "    term2=term2+l2\n",
    "    \n",
    "print(\"Web Mining Page from Wikipedia\")\n",
    "print(term1)\n",
    "print(\"Data Mining Page from Wikipedia\")\n",
    "print(term2)\n"
   ]
  },
  {
   "cell_type": "code",
   "execution_count": 2,
   "metadata": {},
   "outputs": [],
   "source": [
    "final_term1=[]\n",
    "final_term2=[]\n",
    "stop_words=list(set(stopwords.words('english')))\n",
    "stop_words_add=[ ',','.', '-', '(', ')', '[', ']', ':', ';', '\\'']\n",
    "for words in stop_words_add:\n",
    "    stop_words.extend(words)\n",
    "for w in term1:\n",
    "    if w not in stop_words:\n",
    "        final_term1.append(w)\n",
    "\n",
    "for w in term2:\n",
    "    if w not in stop_words:\n",
    "        final_term2.append(w)\n",
    "\n",
    "fopen=open('web_mining.doc','w', encoding='utf-8')\n",
    "for element in final_term1:\n",
    "    fopen.write(element)\n",
    "    fopen.write('\\n')\n",
    "fopen.close()\n",
    "\n",
    "fopen=open('data_mining.doc','w', encoding='utf-8')\n",
    "for element in final_term2:\n",
    "    fopen.write(element)\n",
    "    fopen.write('\\n')\n",
    "fopen.close()\n"
   ]
  },
  {
   "cell_type": "code",
   "execution_count": 3,
   "metadata": {},
   "outputs": [
    {
     "name": "stdout",
     "output_type": "stream",
     "text": [
      "            Terms  Doc1  Doc2\n",
      "0             Web     1     0\n",
      "1          mining     1     1\n",
      "2     application     1     1\n",
      "3            data     1     1\n",
      "4      techniques     1     1\n",
      "...           ...   ...   ...\n",
      "1376          see     0     1\n",
      "1377      Further     0     1\n",
      "1378      reading     0     1\n",
      "1379     External     0     1\n",
      "1380     projects     0     1\n",
      "\n",
      "[1381 rows x 3 columns]\n"
     ]
    }
   ],
   "source": [
    "#Boolean Representation\n",
    "common=[]\n",
    "for w in final_term1:\n",
    "    if w not in common:\n",
    "        common.append(w)\n",
    "for w in final_term2:\n",
    "    if w not in common:\n",
    "        common.append(w)\n",
    "\n",
    "f1=[]\n",
    "f2=[]\n",
    "for w in common:\n",
    "    if w in final_term1:\n",
    "        f1.append(1)\n",
    "    else:\n",
    "        f1.append(0)\n",
    "    if w in final_term2:\n",
    "        f2.append(1)\n",
    "    else:\n",
    "        f2.append(0)\n",
    "a=pd.DataFrame(zip(common, f1, f2))\n",
    "a.columns=[\"Terms\", \"Doc1\", \"Doc2\"]\n",
    "print(a)\n",
    "\n"
   ]
  },
  {
   "cell_type": "code",
   "execution_count": 4,
   "metadata": {},
   "outputs": [
    {
     "name": "stdout",
     "output_type": "stream",
     "text": [
      "            Terms  Doc1  Doc2\n",
      "0             Web    42     0\n",
      "1          mining    54    67\n",
      "2     application     3     2\n",
      "3            data    35   114\n",
      "4      techniques     8     2\n",
      "...           ...   ...   ...\n",
      "1376          see     0     1\n",
      "1377      Further     0     1\n",
      "1378      reading     0     1\n",
      "1379     External     0     1\n",
      "1380     projects     0     1\n",
      "\n",
      "[1381 rows x 3 columns]\n"
     ]
    }
   ],
   "source": [
    "#Bag of Words Representation\n",
    "bf1=[]\n",
    "bf2=[]\n",
    "elements_count1 = {}\n",
    "for element in final_term1:\n",
    "   if element in elements_count1:\n",
    "      elements_count1[element] += 1\n",
    "   else:\n",
    "      elements_count1[element] = 1\n",
    "\n",
    "elements_count2 = {}\n",
    "for element in final_term2:\n",
    "   if element in elements_count2:\n",
    "      elements_count2[element] += 1\n",
    "   else:\n",
    "      elements_count2[element] = 1\n",
    "        \n",
    "for w in common:\n",
    "    if w in elements_count1:\n",
    "        bf1.append(elements_count1[w])\n",
    "    else:\n",
    "        bf1.append(0)\n",
    "    if w in elements_count2:\n",
    "        bf2.append(elements_count2[w])\n",
    "    else:\n",
    "        bf2.append(0)\n",
    "a=pd.DataFrame(zip(common, bf1, bf2))\n",
    "a.columns=[\"Terms\", \"Doc1\", \"Doc2\"]\n",
    "print(a)\n",
    "\n"
   ]
  },
  {
   "cell_type": "code",
   "execution_count": 5,
   "metadata": {},
   "outputs": [
    {
     "name": "stdout",
     "output_type": "stream",
     "text": [
      "            Terms                                               Doc1  \\\n",
      "0             Web  [0, 2, 18, 84, 94, 97, 102, 114, 139, 145, 160...   \n",
      "1          mining  [1, 3, 9, 30, 86, 104, 116, 141, 165, 184, 220...   \n",
      "2     application                                     [6, 278, 1143]   \n",
      "3            data  [8, 44, 280, 290, 305, 338, 355, 651, 731, 788...   \n",
      "4      techniques        [10, 225, 282, 641, 1206, 1383, 1716, 1902]   \n",
      "...           ...                                                ...   \n",
      "1376          see                                                 []   \n",
      "1377      Further                                                 []   \n",
      "1378      reading                                                 []   \n",
      "1379     External                                                 []   \n",
      "1380     projects                                                 []   \n",
      "\n",
      "                                                   Doc2  \n",
      "0                                                    []  \n",
      "1     [1, 3, 33, 84, 153, 179, 248, 283, 325, 368, 3...  \n",
      "2                                           [225, 3364]  \n",
      "3     [12, 57, 117, 121, 152, 173, 182, 205, 282, 30...  \n",
      "4                                            [255, 380]  \n",
      "...                                                 ...  \n",
      "1376                                             [3410]  \n",
      "1377                                             [3416]  \n",
      "1378                                             [3417]  \n",
      "1379                                             [3421]  \n",
      "1380                                             [3441]  \n",
      "\n",
      "[1381 rows x 3 columns]\n"
     ]
    }
   ],
   "source": [
    "#Complete Representation\n",
    "f1=[]\n",
    "f2=[]\n",
    "for w in common:\n",
    "    l1=[]\n",
    "    l2=[]\n",
    "    for i in range(0, len(term1)):\n",
    "        if term1[i] == w:\n",
    "            l1.append(i)\n",
    "    for i in range(0, len(term2)):\n",
    "        if term2[i] == w:\n",
    "            l2.append(i)\n",
    "    f1.append(l1)\n",
    "    f2.append(l2)\n",
    "a=pd.DataFrame(zip(common,f1,f2))\n",
    "a.columns=['Terms', 'Doc1', 'Doc2']\n",
    "print(a)\n",
    "\n"
   ]
  },
  {
   "cell_type": "code",
   "execution_count": 6,
   "metadata": {},
   "outputs": [
    {
     "name": "stdout",
     "output_type": "stream",
     "text": [
      "Enter the query to be searched: Further web\n",
      "     Query  Frequency in Web Mining Doc  Frequency in Data Mining Doc\n",
      "0  Further                            0                             1\n",
      "1      web                           18                             1\n"
     ]
    }
   ],
   "source": [
    "#Frequency of Query Searched\n",
    "query=input('Enter the query to be searched: ')\n",
    "fr1=[]\n",
    "fr2=[]\n",
    "l=word_tokenize(query)\n",
    "final_q=[]\n",
    "for w in l:\n",
    "    if w not in stop_words:\n",
    "        final_q.append(w)\n",
    "for i in range(0,len(final_q)):\n",
    "    if final_q[i] in common:\n",
    "        fr1.append(bf1[common.index(final_q[i])])\n",
    "        fr2.append(bf2[common.index(final_q[i])])\n",
    "    else:\n",
    "        fr1.append(\"Not Present\")\n",
    "        fr2.append(\"Not Present\")\n",
    "b=pd.DataFrame(zip(final_q,fr1,fr2))\n",
    "b.columns=[\"Query\", \"Frequency in Web Mining Doc\", \"Frequency in Data Mining Doc\"]\n",
    "print(b)\n"
   ]
  },
  {
   "cell_type": "code",
   "execution_count": null,
   "metadata": {},
   "outputs": [],
   "source": []
  },
  {
   "cell_type": "code",
   "execution_count": null,
   "metadata": {},
   "outputs": [],
   "source": []
  },
  {
   "cell_type": "code",
   "execution_count": null,
   "metadata": {},
   "outputs": [],
   "source": []
  }
 ],
 "metadata": {
  "kernelspec": {
   "display_name": "Python 3",
   "language": "python",
   "name": "python3"
  },
  "language_info": {
   "codemirror_mode": {
    "name": "ipython",
    "version": 3
   },
   "file_extension": ".py",
   "mimetype": "text/x-python",
   "name": "python",
   "nbconvert_exporter": "python",
   "pygments_lexer": "ipython3",
   "version": "3.7.6"
  }
 },
 "nbformat": 4,
 "nbformat_minor": 4
}
