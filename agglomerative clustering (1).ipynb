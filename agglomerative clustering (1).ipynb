{
 "cells": [
  {
   "cell_type": "code",
   "execution_count": 1,
   "metadata": {},
   "outputs": [
    {
     "name": "stdout",
     "output_type": "stream",
     "text": [
      "EUCLIDEAN DISTANCE\n",
      "          A         B         C         D\n",
      "A  0.000000  1.068925  0.564358  0.520384\n",
      "B  1.068925  0.000000  0.967523  0.961769\n",
      "C  0.564358  0.967523  0.000000  0.064031\n",
      "D  0.520384  0.961769  0.064031  0.000000\n"
     ]
    }
   ],
   "source": [
    "#initial euclidean distance\n",
    "import pandas as pd\n",
    "import numpy as np\n",
    "arr=[[0,0.67,0.18],[0.96,0.20,0.19],[0,0.11,0.11],[0,0.15,0.16]]\n",
    "final=[]\n",
    "initial=[]\n",
    "for i in range(0,4):\n",
    "    l=[]\n",
    "    for j in range(0,4):\n",
    "        euc=np.sqrt(((arr[i][0]-arr[j][0])**2)+((arr[i][1]-arr[j][1])**2)+((arr[i][2]-arr[j][2])**2))\n",
    "        l.append(euc)\n",
    "    final.append(l)\n",
    "df=pd.DataFrame(list(zip(final[0],final[1],final[2],final[3])))\n",
    "df=df.rename(columns={0:'A',1:'B',2:'C',3:'D'}, index={0:'A',1:'B',2:'C',3:'D'})\n",
    "n=4\n",
    "print('EUCLIDEAN DISTANCE')\n",
    "print(df)\n",
    "initial=final"
   ]
  },
  {
   "cell_type": "code",
   "execution_count": 2,
   "metadata": {},
   "outputs": [
    {
     "name": "stdout",
     "output_type": "stream",
     "text": [
      "COMPLETE LINKAGE\n",
      "          0         1         2         3\n",
      "0  0.000000  1.068925  0.520384  0.520384\n",
      "1  1.068925  0.000000  0.961769  0.961769\n",
      "2  0.564358  0.967523  0.000000  0.064031\n",
      "3  0.520384  0.961769  0.000000  0.000000\n",
      "\n",
      "\n",
      "          0         1         2\n",
      "0  0.000000  1.068925  0.520384\n",
      "1  1.068925  0.000000  0.961769\n",
      "2  0.520384  0.967523  0.000000\n",
      "\n",
      "\n",
      "          0         1\n",
      "0  0.000000  1.068925\n",
      "1  1.068925  0.000000\n",
      "\n",
      "\n"
     ]
    }
   ],
   "source": [
    "cluster=[]\n",
    "print(\"COMPLETE LINKAGE\")\n",
    "while n>1:\n",
    "    m=100\n",
    "    for i in final:\n",
    "        for j in i:\n",
    "            if j!=0 and j<m:\n",
    "                m=j\n",
    "\n",
    "#complete linkage\n",
    "    x=0\n",
    "    y=0\n",
    "    for i in range(n):\n",
    "        for j in range(n):\n",
    "            if final[i][j]==m:\n",
    "                x=i\n",
    "                y=j\n",
    "                \n",
    "                break\n",
    "    new=[]\n",
    "    final1=[]\n",
    "    for i in range(n):\n",
    "        a=[]\n",
    "        for j in range(n):\n",
    "            if j!=min(x,y):\n",
    "                a.append(final[i][j])\n",
    "            else:\n",
    "                a.append(max(final[x][i],final[y][j]))\n",
    "        final1.append(a)\n",
    "    for i in range(n):\n",
    "        final1[i][i]=0.0\n",
    "    final=final1\n",
    "    df=pd.DataFrame(list(final))\n",
    "    \n",
    "    print(df)\n",
    "    print(\"\\n\")\n",
    "    n-=1\n",
    "    cluster.append(str(x)+str(y))"
   ]
  },
  {
   "cell_type": "code",
   "execution_count": 3,
   "metadata": {},
   "outputs": [
    {
     "name": "stdout",
     "output_type": "stream",
     "text": [
      "AVERAGE LINKAGE\n",
      "          0         1         2         3\n",
      "0  0.000000  1.068925  0.260192  0.520384\n",
      "1  1.068925  0.000000  0.480885  0.961769\n",
      "2  0.564358  0.967523  0.032016  0.064031\n",
      "3  0.520384  0.961769  0.000000  0.000000\n",
      "\n",
      "\n",
      "          0         1         2\n",
      "0  0.000000  1.068925  0.298187\n",
      "1  1.068925  0.000000  0.499769\n",
      "2  0.564358  0.967523  0.032016\n",
      "\n",
      "\n",
      "          0         1\n",
      "0  0.000000  1.068925\n",
      "1  0.534462  0.000000\n",
      "\n",
      "\n"
     ]
    }
   ],
   "source": [
    "print(\"AVERAGE LINKAGE\")\n",
    "final=initial\n",
    "n=4\n",
    "while n>1:\n",
    "    m=100\n",
    "    for i in final:\n",
    "        for j in i:\n",
    "            if j!=0 and j<m:\n",
    "                m=j\n",
    "    cluster=[]\n",
    "#complete linkage\n",
    "    x=0\n",
    "    y=0\n",
    "    for i in range(n):\n",
    "        for j in range(n):\n",
    "            if final[i][j]==m:\n",
    "                x=i\n",
    "                y=j\n",
    "                break\n",
    "    final1=[]\n",
    "    for i in range(n):\n",
    "        a=[]\n",
    "        for j in range(n):\n",
    "            if j!=min(x,y):\n",
    "                a.append(final[i][j])\n",
    "            else:\n",
    "                a.append(((max(final[x][i],final[y][j]))+(min(final[x][i],final[y][j])))/2)\n",
    "        final1.append(a)\n",
    "    final=final1\n",
    "    df=pd.DataFrame(list(final))\n",
    "    print(df)\n",
    "    print(\"\\n\")\n",
    "    n-=1"
   ]
  },
  {
   "cell_type": "code",
   "execution_count": 67,
   "metadata": {},
   "outputs": [
    {
     "name": "stderr",
     "output_type": "stream",
     "text": [
      "D:\\Anaconda\\lib\\site-packages\\ipykernel_launcher.py:3: ClusterWarning: scipy.cluster: The symmetric non-negative hollow observation matrix looks suspiciously like an uncondensed distance matrix\n",
      "  This is separate from the ipykernel package so we can avoid doing imports until\n"
     ]
    },
    {
     "data": {
      "image/png": "[encoded data removed]",
      "text/plain": [
       "<Figure size 432x288 with 1 Axes>"
      ]
     },
     "metadata": {
      "needs_background": "light"
     },
     "output_type": "display_data"
    }
   ],
   "source": [
    "#dendogram for average linkage\n",
    "import scipy.cluster.hierarchy as shc\n",
    "\n",
    "dend2 = shc.dendrogram(shc.linkage(initial, method='average'))"
   ]
  },
  {
   "cell_type": "code",
   "execution_count": 72,
   "metadata": {},
   "outputs": [
    {
     "name": "stdout",
     "output_type": "stream",
     "text": [
      "For Average Linkage\n",
      "           Clusters  Value\n",
      "0            [2, 3]    0.1\n",
      "1       [0, [2, 3]]    0.9\n",
      "2  [1, [0, [2, 3]]]    1.7\n"
     ]
    }
   ],
   "source": [
    "#clusters formed at the end of each level for average linkage\n",
    "l1=[[2,3],[0,[2,3]],[1,[0,[2,3]]]]\n",
    "l2=[0.1,0.9,1.7]\n",
    "df1=pd.DataFrame(list(zip(l1,l2)))\n",
    "print('For Average Linkage')\n",
    "df1=df1.rename(columns={0:'Clusters',1:'Value'})\n",
    "print(df1)\n"
   ]
  },
  {
   "cell_type": "code",
   "execution_count": 73,
   "metadata": {},
   "outputs": [
    {
     "name": "stderr",
     "output_type": "stream",
     "text": [
      "D:\\Anaconda\\lib\\site-packages\\ipykernel_launcher.py:2: ClusterWarning: scipy.cluster: The symmetric non-negative hollow observation matrix looks suspiciously like an uncondensed distance matrix\n",
      "  \n"
     ]
    },
    {
     "data": {
      "image/png": "[encoded data removed]",
      "text/plain": [
       "<Figure size 432x288 with 1 Axes>"
      ]
     },
     "metadata": {
      "needs_background": "light"
     },
     "output_type": "display_data"
    }
   ],
   "source": [
    "#dendogram for complete linkage\n",
    "dend3 = shc.dendrogram(shc.linkage(initial, method='complete'))"
   ]
  },
  {
   "cell_type": "code",
   "execution_count": 74,
   "metadata": {},
   "outputs": [
    {
     "name": "stdout",
     "output_type": "stream",
     "text": [
      "For Complete Linkage\n",
      "           Clusters  Value\n",
      "0            [2, 3]   0.10\n",
      "1       [0, [2, 3]]   0.85\n",
      "2  [1, [0, [2, 3]]]   1.74\n"
     ]
    }
   ],
   "source": [
    "#clusters formed at the end of each level for complete linkage\n",
    "l1=[[2,3],[0,[2,3]],[1,[0,[2,3]]]]\n",
    "l2=[0.10,0.85,1.74]\n",
    "df2=pd.DataFrame(list(zip(l1,l2)))\n",
    "print('For Complete Linkage')\n",
    "df2=df2.rename(columns={0:'Clusters',1:'Value'})\n",
    "print(df2)"
   ]
  },
  {
   "cell_type": "code",
   "execution_count": 76,
   "metadata": {},
   "outputs": [
    {
     "name": "stdout",
     "output_type": "stream",
     "text": [
      "           Clusters  Value          Clusters  Value\n",
      "0            [2, 3]    0.1            [2, 3]   0.10\n",
      "1       [0, [2, 3]]    0.9       [0, [2, 3]]   0.85\n",
      "2  [1, [0, [2, 3]]]    1.7  [1, [0, [2, 3]]]   1.74\n"
     ]
    }
   ],
   "source": [
    "#combined dataframe\n",
    "df=pd.concat([df1,df2],axis=1,sort=False)\n",
    "print(df)"
   ]
  },
  {
   "cell_type": "code",
   "execution_count": null,
   "metadata": {},
   "outputs": [],
   "source": []
  }
 ],
 "metadata": {
  "kernelspec": {
   "display_name": "Python 3",
   "language": "python",
   "name": "python3"
  },
  "language_info": {
   "codemirror_mode": {
    "name": "ipython",
    "version": 3
   },
   "file_extension": ".py",
   "mimetype": "text/x-python",
   "name": "python",
   "nbconvert_exporter": "python",
   "pygments_lexer": "ipython3",
   "version": "3.7.6"
  }
 },
 "nbformat": 4,
 "nbformat_minor": 4
}
