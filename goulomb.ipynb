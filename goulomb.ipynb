{
 "cells": [
  {
   "cell_type": "code",
   "execution_count": 1,
   "metadata": {},
   "outputs": [
    {
     "name": "stdout",
     "output_type": "stream",
     "text": [
      "Enter the number to be encoded: 9\n",
      "Enter the base value: 3\n",
      "The encoded number for the given base is:  00010\n",
      "Would you like to encode another number? 0 for no and 1 for yes: 1\n",
      "Enter the number to be encoded: 101\n",
      "Enter the base value: 2\n",
      "The encoded number for the given base is:  0000000000000000000000000000000000000000000000000011\n",
      "Would you like to encode another number? 0 for no and 1 for yes: 0\n",
      "Enter the number to be decoded: 1011\n",
      "Enter the base value: 2\n",
      "The decoded number for the given base is:  0\n",
      "Would you like to encode another number? 0 for no and 1 for yes: 0\n"
     ]
    }
   ],
   "source": [
    "import math\n",
    "c=1\n",
    "while c==1:\n",
    "    n=int(input(\"Enter the number to be encoded: \"))\n",
    "    b=int(input(\"Enter the base value: \"))\n",
    "\n",
    "    q = math.floor(n/b)  \n",
    "\n",
    "    a=''\n",
    "    for i in range(q):\n",
    "        a+='0'\n",
    "    a+='1'\n",
    "\n",
    "    i = math.floor(math.log2(b)) \n",
    "    k = 2**(i+1)-b \n",
    "\n",
    "    if (n%b)<k: \n",
    "        r=bin(n%b)[2:] \n",
    "        l=len(r) \n",
    "\n",
    "        if l<i: \n",
    "            r='0'*(i-l)+r \n",
    "    else: \n",
    "        r=bin((n%b)+k)[2:] \n",
    "        l=len(r)  \n",
    "        if l<i+1: \n",
    "            r='0'*(i+1-l)+r \n",
    "    g=a+r\n",
    "    print(\"The encoded number for the given base is: \", g) \n",
    "    \n",
    "    c=int(input('Would you like to encode another number? 0 for decode and 1 for yes: '))\n",
    "    \n",
    "\n",
    "c=1\n",
    "while c==1:\n",
    "    n=input(\"Enter the number to be decoded: \")\n",
    "    b=int(input(\"Enter the base value: \"))\n",
    "    \n",
    "    i=math.floor(math.log(b,2))\n",
    "    d=2**(i+1)-b\n",
    "    q=0\n",
    "    for x in n:\n",
    "        if x=='0':\n",
    "            q+=1\n",
    "        if x=='1':\n",
    "            ind=n.index(x)\n",
    "            break\n",
    "    r=''\n",
    "    for x in range(ind+1,ind+i+1):\n",
    "        r+=n[x]\n",
    "    r_d=int(r,2)\n",
    "    if r_d>=d:\n",
    "        r+=n[ind+i+1]\n",
    "        r_d=int(r,2)\n",
    "        r_d=r_d-d\n",
    "    x=(q*b)+r_d\n",
    "    \n",
    "    print('The decoded number for the given base is: ',x)\n",
    "    c=int(input('Would you like to encode another number? 0 for no and 1 for yes: '))"
   ]
  },
  {
   "cell_type": "code",
   "execution_count": null,
   "metadata": {},
   "outputs": [],
   "source": []
  }
 ],
 "metadata": {
  "kernelspec": {
   "display_name": "Python 3",
   "language": "python",
   "name": "python3"
  },
  "language_info": {
   "codemirror_mode": {
    "name": "ipython",
    "version": 3
   },
   "file_extension": ".py",
   "mimetype": "text/x-python",
   "name": "python",
   "nbconvert_exporter": "python",
   "pygments_lexer": "ipython3",
   "version": "3.7.6"
  }
 },
 "nbformat": 4,
 "nbformat_minor": 4
}
